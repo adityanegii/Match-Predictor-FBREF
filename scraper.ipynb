{
 "cells": [
  {
   "cell_type": "code",
   "execution_count": 1,
   "metadata": {},
   "outputs": [],
   "source": [
    "import requests\n",
    "from bs4 import BeautifulSoup\n",
    "import pandas as pd\n",
    "import time"
   ]
  },
  {
   "cell_type": "code",
   "execution_count": 29,
   "metadata": {},
   "outputs": [],
   "source": [
    "# Parse the defensive actions table\n",
    "def parse_def(df):\n",
    "    df.columns = df.columns.droplevel()\n",
    "    df = df.drop(columns=[\"Time\", \"Comp\", \"Round\", \"Day\", \"Venue\", \"Result\", \"GF\", \"GA\", \"Opponent\", \"Match Report\"])\n",
    "    df.columns = [\"Date\", \"Tkl\", \"TklW\", \"Def 3rd\", \"Mid 3rd\", \"Att 3rd\", \"DriTkl\", \"Att\", \"Tkl%\", \"Lost\", \"Blocks\", \"Sh\", \"PassBlk\", \"Int\", \"Tkl+Int\", \"Clr\", \"Err\"]\n",
    "    return df\n",
    "\n",
    "def parse_gca(df):\n",
    "    df.columns = df.columns.droplevel()\n",
    "    df = df.drop(columns=[\"Time\", \"Comp\", \"Round\", \"Day\", \"Venue\", \"Result\", \"GF\", \"GA\", \"Opponent\", \"Match Report\"])\n",
    "    return df\n",
    "\n",
    "def parse_gk(df):\n",
    "    df.columns = df.columns.droplevel()\n",
    "    df = df.drop(columns=[\"Time\", \"Comp\", \"Round\", \"Day\", \"Venue\", \"Result\", \"GF\", \"GA\", \"Opponent\", \"Match Report\"])\n",
    "    df.columns = [\"Date\", \"SoTA\", \"GA\", \"Saves\", \"Save%\", \"CS\", \"PSxG\", \"PSxG+/-\", \"PKatt\", \"PKA\", \"PKsv\", \"PKm\", \"Cmp\", \"Att\", \"Cmp%\", \"Att\", \"Thr\", \"Launch%\", \"AvgLen\", \"Att\", \"Launch%\", \"AvgLen\", \"Opp\", \"Stp\", \"Stp%\", \"#OPA\", \"AvgDist\"]\n",
    "    return df\n",
    "\n",
    "def parse_misc(df):\n",
    "    df.columns = df.columns.droplevel()\n",
    "    df = df.drop(columns=[\"Time\", \"Comp\", \"Round\", \"Day\", \"Venue\", \"Result\", \"GF\", \"GA\", \"Opponent\", \"2CrdY\", \"Int\", \"TklW\", \"OG\", \"Match Report\"])\n",
    "    df.columns = [\"Date\", \"Yell\", \"Red\", \"Fouls\", \"FoulsDrawn\", \"Off\", \"Crosses\", \"PKwon\", \"PKcon\", \"Recov\", \"AerialWon\", \"AerialLost\", \"AerialWon%\"]\n",
    "    return df\n",
    "\n",
    "def parse_pass(df):\n",
    "    df.columns = df.columns.droplevel()\n",
    "    df = df.drop(columns=[\"Time\", \"Comp\", \"Round\", \"Day\", \"Venue\", \"Result\", \"GF\", \"GA\", \"Opponent\", \"Match Report\"])\n",
    "    df.columns = [\"Date\", \"TotCmp\", \"TotAtt\", \"TotCmp%\", \"TotDist\", \"PrgDist\", \"SCmp\", \"SAtt\", \"SCmp%\", \"MCmp\", \"MAtt\", \"MCmp%\", \"LCmp\", \"LAtt\", \"LCmp%\", \"Ast\", \"xAG\", \"xA\", \"KeyPasses\", \"PasIntoFin1/3\", \"PasIntoBox\", \"CrsIntoBox\", \"PrgP\"]\n",
    "    return df\n",
    "\n",
    "def parse_poss(df):\n",
    "    df.columns = df.columns.droplevel()\n",
    "    df = df.drop(columns=[\"Time\", \"Comp\", \"Round\", \"Day\", \"Venue\", \"Result\", \"GF\", \"GA\", \"Opponent\", \"Match Report\"])\n",
    "    df.columns = [\"Date\", \"Poss\", \"Touches\", \"DefBoxTouches\", \"Def3rdTouches\", \"Mid3rdTouches\", \"Att3rdTouches\", \"AttBoxTouches\", \"Live\", \"AttTakeOns\", \"SuccTakeOns\", \"Succ%TakeOns\", \"TkldInTakeOns\", \"Tkld%InTakeOns\", \"Carries\", \"TotDistCarried\", \"PrgDistCarried\", \"PrgCarries\", \"CarriesInto1/3\", \"CarriesIntoBox\", \"Miscontrols\", \"Dispossessed\", \"PassesRec\", \"PrgPassesRec\"]\n",
    "    return df\n",
    "\n",
    "def parse_passTypes(df):\n",
    "    df.columns = df.columns.droplevel()\n",
    "    df = df.drop(columns=[\"Time\", \"Comp\", \"Round\", \"Day\", \"Venue\", \"Result\", \"GF\", \"GA\", \"Opponent\", \"Att\", \"Cmp\", \"Match Report\"])\n",
    "    df.columns = [\"Date\", \"Live\", \"Dead\", \"FK\", \"TB\", \"Switch\", \"Cross\", \"TI\", \"CK\", \"CKIn\", \"CKOut\", \"CKShort\", \"OffPasses\", \"BlockedPasses\"]\n",
    "    return df\n",
    "\n",
    "def parse_shooting(df):\n",
    "    df.columns = df.columns.droplevel()\n",
    "    df = df.drop(columns=[\"Time\", \"Comp\", \"Round\", \"Day\", \"Venue\", \"Result\", \"GF\", \"GA\", \"Opponent\", \"Match Report\"])\n",
    "    df.columns = [\"Date\", \"Sh\", \"SoT\", \"SoT%\", \"G/Sh\", \"G/SoT\", \"AvgDist\", \"FK\", \"PK\", \"PKatt\", \"xG\", \"npxG\", \"npxG/Sh\", \"G-xG\", \"np:G-xG\"]\n",
    "    return df"
   ]
  },
  {
   "cell_type": "code",
   "execution_count": 30,
   "metadata": {},
   "outputs": [
    {
     "data": {
      "text/plain": [
       "Index(['Date', 'Tkl', 'TklW', 'Def 3rd', 'Mid 3rd', 'Att 3rd', 'DriTkl', 'Att',\n",
       "       'Tkl%', 'Lost', 'Blocks', 'Sh', 'PassBlk', 'Int', 'Tkl+Int', 'Clr',\n",
       "       'Err'],\n",
       "      dtype='object')"
      ]
     },
     "execution_count": 30,
     "metadata": {},
     "output_type": "execute_result"
    }
   ],
   "source": [
    "data = requests.get(\"https://fbref.com/en/squads/b8fd03ef/2022-2023/matchlogs/all_comps/defense/Manchester-City-Match-Logs-All-Competitions\")\n",
    "df = pd.read_html(data.text, match=\"Defensive Actions\")[0]\n",
    "df = parse_def(df)\n",
    "df.columns"
   ]
  },
  {
   "cell_type": "code",
   "execution_count": null,
   "metadata": {},
   "outputs": [],
   "source": [
    "years = list(range(2022, 2020, - 1))\n",
    "all_matches = []\n",
    "standings_url = \"https://fbref.com/en/comps/9/standings/Premier-League-Stats\"\n",
    "\n",
    "categories = [\"Defensive Actions\", \"Goal and Shot Creation\", \"Goalkeeping\", \"Miscellaneous Stats\", \"Passing\", \"Possession\", \"Pass Types\", \"Shooting\"]\n",
    "stats = [ [\"Tkl\", \"TklW\", \"Def 3rd\", \"Mid 3rd\", \"Att 3rd\", \"Tkl\", \"Att\", \"Tkl%\", \"Lost\", \"Blocks\", \"Sh\", \"Pass\", \"Int\", \"Tkl+Int\", \"Clr\", \"Err\"],\n",
    "        [\"SCA\",\t\"PassLive\",\t\"PassDead\",\t\"TO\",\t\"Sh\",\t\"Fld\",\t\"Def\",\t\"GCA\",\t\"PassLive\",\t\"PassDead\",\t\"TO\",\t\"Sh\",\t\"Fld\",\t\"Def\"],\n",
    "        [\"SoTA\", \"GA\", \"Saves\", \"Save%\", \"CS\", \"PSxG\", \"PSxG+/-\", \"PKatt\", \"PKA\", \"PKsv\", \"PKm\", \"Cmp\", \"Att\", \"Cmp%\", \"Att\", \"Thr\", \"Launch%\", \"AvgLen\", \"Att\", \"Launch%\", \"AvgLen\", \"Opp\", \"Stp\", \"Stp%\", \"#OPA\", \"AvgDist\"],\n",
    "        [\"CrdY\", \"CrdR\", \"2CrdY\", \"Fls\", \"Fld\", \"Off\", \"Crs\", \"Int\", \"TklW\", \"PKwon\", \"PKcon\", \"OG\", \"Recov\", \"Won\", \"Lost\", \"Won%\"],\n",
    "        []\n",
    "]\n",
    "\n",
    "for year in years:\n",
    "    data = requests.get(standings_url)\n",
    "    soup = BeautifulSoup(data.text)\n",
    "    standings_table = soup.select('table.stats_table')[0]\n",
    "\n",
    "    links = [l.get(\"href\") for l in standings_table.find_all('a')]\n",
    "    links = [l for l in links if '/squads/' in l]\n",
    "    team_urls = [f\"https://fbref.com{l}\" for l in links]\n",
    "    \n",
    "    previous_season = soup.select(\"a.prev\")[0].get(\"href\")\n",
    "    standings_url = f\"https://fbref.com{previous_season}\"\n",
    "    \n",
    "    # Get team data\n",
    "\n",
    "    for team_url in team_urls:\n",
    "        # Get match data\n",
    "        team_name = team_url.split(\"/\")[-1].replace(\"-Stats\", \"\").replace(\"-\", \" \")\n",
    "        data = requests.get(team_url)\n",
    "        matches = pd.read_html(data.text, match=\"Scores & Fixtures\")[0]\n",
    "        \n",
    "        # Get stats links\n",
    "        soup = BeautifulSoup(data.text)\n",
    "        links = [l.get(\"href\") for l in soup.find_all('a')]\n",
    "        links = [l for l in links if l and (\"all_comps/shooting\" in l or \"all_comps/keeper\" in l or \"all_comps/passing\" in l\n",
    "                                             or \"all_comps/passing_types\" in l or \"all_comps/gca\" in l or \"all_comps/defense\" in l\n",
    "                                               or \"all_comps/possesion\" in l or \"all_comps/misc\" in l)]\n",
    "        links = list(set(links))\n",
    "        links = [f\"https://fbref.com{l}\" for l in links]\n",
    "        links.sort()\n",
    "        \n",
    "        for link, category in zip(links, categories):\n",
    "            data = requests.get(link)\n",
    "            df = pd.read_html(data.text, match=category)[0]\n",
    "            df.to_csv(f\"{team_name}_{category}.csv\")\n",
    "        time.sleep(3)\n",
    "        break\n",
    "        # Get shooting data\n",
    "        data = requests.get(f\"https://fbref.com{links[0]}\")\n",
    "        shooting = pd.read_html(data.text, match=\"Shooting\")[0]\n",
    "\n",
    "        # Clean up shooting data\n",
    "        shooting.columns = shooting.columns.droplevel()\n",
    "        try:\n",
    "            team_data = matches.merge(shooting[[\"Date\", \"Sh\", \"SoT\", \"Dist\", \"FK\", \"PK\", \"PKatt\"]], on=\"Date\")\n",
    "        except ValueError:\n",
    "            continue\n",
    "        team_data = team_data[team_data[\"Comp\"] == \"Premier League\"]\n",
    "        \n",
    "        # Add year and team name\n",
    "        team_data[\"Season\"] = year\n",
    "        team_data[\"Team\"] = team_name\n",
    "        all_matches.append(team_data)\n",
    "        time.sleep(3)"
   ]
  },
  {
   "cell_type": "code",
   "execution_count": 10,
   "metadata": {},
   "outputs": [],
   "source": [
    "# Convert to CSV\n",
    "len(all_matches)\n",
    "match_df = pd.concat(all_matches)\n",
    "match_df.columns = [c.lower() for c in match_df.columns]\n",
    "match_df.to_csv(\"matches.csv\")"
   ]
  }
 ],
 "metadata": {
  "kernelspec": {
   "display_name": "base",
   "language": "python",
   "name": "python3"
  },
  "language_info": {
   "codemirror_mode": {
    "name": "ipython",
    "version": 3
   },
   "file_extension": ".py",
   "mimetype": "text/x-python",
   "name": "python",
   "nbconvert_exporter": "python",
   "pygments_lexer": "ipython3",
   "version": "3.9.13"
  },
  "orig_nbformat": 4
 },
 "nbformat": 4,
 "nbformat_minor": 2
}
