{
 "cells": [
  {
   "cell_type": "code",
   "execution_count": 10,
   "metadata": {},
   "outputs": [],
   "source": [
    "import pandas as pd\n",
    "import numpy as np\n",
    "from constants import *\n",
    "\n",
    "import requests\n",
    "import requests\n",
    "from bs4 import BeautifulSoup\n",
    "import pandas as pd\n",
    "import time\n",
    "import random\n",
    "\n",
    "from helpers.scraper_helpers import parse_def, parse_gca, parse_gk, parse_misc, parse_pass, parse_passTypes, parse_poss, parse_shooting\n",
    "from main import predict_c, get_predictors, process, train_and_predict\n",
    "\n",
    "from models.RandomForestClassifier import RFC\n",
    "\n",
    "import data_processor as DP"
   ]
  },
  {
   "cell_type": "code",
   "execution_count": null,
   "metadata": {},
   "outputs": [],
   "source": [
    "data = requests.get('https://fbref.com/en/squads/b8fd03ef/Manchester-City-Stats')\n",
    "print(data.status_code)\n",
    "matches = pd.read_html(data.text, match=\"Scores & Fixtures\")[0]\n",
    "matches = matches.drop(columns=[\"Poss\", \"xG\", \"Attendance\", \"Captain\", \"Referee\", \"Notes\"])"
   ]
  },
  {
   "cell_type": "code",
   "execution_count": 8,
   "metadata": {},
   "outputs": [],
   "source": [
    "soup = BeautifulSoup(data.text, features=\"html.parser\")\n",
    "links = [l.get(\"href\") for l in soup.find_all('a')]\n",
    "links = [l for l in links if l and l.startswith(\"/en/matches/\")]"
   ]
  },
  {
   "cell_type": "code",
   "execution_count": null,
   "metadata": {},
   "outputs": [],
   "source": [
    "matches.head()"
   ]
  },
  {
   "cell_type": "code",
   "execution_count": null,
   "metadata": {},
   "outputs": [],
   "source": [
    "links"
   ]
  },
  {
   "cell_type": "code",
   "execution_count": null,
   "metadata": {},
   "outputs": [],
   "source": [
    "data = requests.get('https://fbref.com/en/squads/acbb6a5b/RB-Leipzig-Stats')\n",
    "\n",
    "# Use BeautifulSoup to parse the HTML content\n",
    "soup = BeautifulSoup(data.text, 'html.parser')\n",
    "soup"
   ]
  },
  {
   "cell_type": "code",
   "execution_count": null,
   "metadata": {},
   "outputs": [],
   "source": [
    "# Make the request to the website\n",
    "data = requests.get('https://fbref.com/en/squads/b8fd03ef/Manchester-City-Stats')\n",
    "\n",
    "# Use BeautifulSoup to parse the HTML content\n",
    "soup = BeautifulSoup(data.text, 'html.parser')\n",
    "soup"
   ]
  },
  {
   "cell_type": "code",
   "execution_count": null,
   "metadata": {},
   "outputs": [],
   "source": [
    "# Make the request to the website\n",
    "data = requests.get('https://fbref.com/en/squads/b8fd03ef/Manchester-City-Stats')\n",
    "\n",
    "# Use BeautifulSoup to parse the HTML content\n",
    "soup = BeautifulSoup(data.text, 'html.parser')\n",
    "\n",
    "# Find the table containing the match data\n",
    "table = soup.find('table', {'id': 'stats'})\n",
    "\n",
    "# Read the table using pandas\n",
    "matches = pd.read_html(str(table), match=\"Scores & Fixtures\")[0]\n",
    "\n",
    "# Extract the links from the \"Match Report\" column\n",
    "match_report_links = []\n",
    "for index, row in matches.iterrows():\n",
    "    # Assuming the \"Match Report\" column is named \"Match Report\"\n",
    "    match_report_cell = row['Match Report']\n",
    "    \n",
    "    # Extract the link using BeautifulSoup\n",
    "    link = BeautifulSoup(match_report_cell, 'html.parser').find('a')['href']\n",
    "    \n",
    "    match_report_links.append(link)\n",
    "\n",
    "# Add the extracted links as a new column\n",
    "matches['Match Report Link'] = match_report_links\n",
    "\n",
    "# Drop unnecessary columns\n",
    "matches = matches.drop(columns=[\"Poss\", \"xG\", \"Attendance\", \"Captain\", \"Referee\", \"Notes\"])\n",
    "\n",
    "# Print the modified DataFrame\n",
    "print(matches)\n"
   ]
  },
  {
   "cell_type": "code",
   "execution_count": null,
   "metadata": {},
   "outputs": [],
   "source": [
    "train_and_predict()"
   ]
  },
  {
   "cell_type": "code",
   "execution_count": 45,
   "metadata": {},
   "outputs": [],
   "source": [
    "df = pd.read_csv(\"data/process_GER1.csv\")\n",
    "df[\"date\"] = pd.to_datetime(df[\"date\"])\n",
    "next_games = df[df['date'].dt.date >= pd.Timestamp(DATE).date()]\n"
   ]
  },
  {
   "cell_type": "code",
   "execution_count": 5,
   "metadata": {},
   "outputs": [],
   "source": [
    "df = pd.read_csv(\"data/matches_ENG1.csv\")\n"
   ]
  },
  {
   "cell_type": "code",
   "execution_count": 9,
   "metadata": {},
   "outputs": [
    {
     "name": "stdout",
     "output_type": "stream",
     "text": [
      "['Arsenal' 'Watford' 'Crystal Palace' 'Brentford' 'Everton' 'Leeds United'\n",
      " 'Chelsea' 'Manchester Utd' 'Southampton' 'West Ham' 'Brighton'\n",
      " 'Manchester City' 'Newcastle Utd' 'Norwich City' 'Wolves' 'Aston Villa'\n",
      " 'Liverpool' 'Leicester City' 'Burnley' 'Tottenham']\n",
      "----------\n",
      "['Crystal Palace' 'Fulham' 'Bournemouth' 'Leeds United' 'Newcastle Utd'\n",
      " 'Tottenham' 'Everton' 'Leicester City' 'Manchester Utd' 'West Ham'\n",
      " 'Aston Villa' 'Arsenal' 'Brighton' 'Manchester City' 'Southampton'\n",
      " 'Wolves' 'Brentford' 'Nottingham Forest' 'Chelsea' 'Liverpool']\n",
      "----------\n",
      "['Burnley' 'Arsenal' 'Bournemouth' 'Brighton' 'Everton' 'Sheffield Utd'\n",
      " 'Newcastle Utd' 'Brentford' 'Chelsea' 'Manchester Utd'\n",
      " 'Nottingham Forest' 'Fulham' 'Liverpool' 'Wolves' 'Tottenham'\n",
      " 'Manchester City' 'Aston Villa' 'West Ham' 'Crystal Palace' 'Luton Town']\n",
      "----------\n",
      "['Manchester Utd' 'Ipswich Town' 'Arsenal' 'Everton' 'Newcastle Utd'\n",
      " 'Nottingham Forest' 'West Ham' 'Brentford' 'Chelsea' 'Leicester City'\n",
      " 'Brighton' 'Crystal Palace' 'Fulham' 'Manchester City' 'Southampton'\n",
      " 'Tottenham' 'Aston Villa' 'Bournemouth' 'Wolves' 'Liverpool']\n",
      "----------\n"
     ]
    }
   ],
   "source": []
  },
  {
   "cell_type": "code",
   "execution_count": null,
   "metadata": {},
   "outputs": [],
   "source": []
  }
 ],
 "metadata": {
  "kernelspec": {
   "display_name": "match-predictor-venv",
   "language": "python",
   "name": "python3"
  },
  "language_info": {
   "codemirror_mode": {
    "name": "ipython",
    "version": 3
   },
   "file_extension": ".py",
   "mimetype": "text/x-python",
   "name": "python",
   "nbconvert_exporter": "python",
   "pygments_lexer": "ipython3",
   "version": "3.10.4"
  }
 },
 "nbformat": 4,
 "nbformat_minor": 2
}
